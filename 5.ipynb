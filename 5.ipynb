{
  "nbformat": 4,
  "nbformat_minor": 0,
  "metadata": {
    "colab": {
      "name": "5.ipynb",
      "provenance": [],
      "collapsed_sections": [],
      "authorship_tag": "ABX9TyOxSCkllZPXBuDgh0XhKHUz",
      "include_colab_link": true
    },
    "kernelspec": {
      "name": "python3",
      "display_name": "Python 3"
    },
    "language_info": {
      "name": "python"
    }
  },
  "cells": [
    {
      "cell_type": "markdown",
      "metadata": {
        "id": "view-in-github",
        "colab_type": "text"
      },
      "source": [
        "<a href=\"https://colab.research.google.com/github/santiago574/P2-T2-AID-Ejercicios_Funciones_en_python/blob/main/5.ipynb\" target=\"_parent\"><img src=\"https://colab.research.google.com/assets/colab-badge.svg\" alt=\"Open In Colab\"/></a>"
      ]
    },
    {
      "cell_type": "markdown",
      "metadata": {
        "id": "FB4ewb80kaDq"
      },
      "source": [
        "# Ejercicio 5\n",
        "#### Escribir una función que reciba una muestra de números en una lista y devuelva un diccionario con su media, varianza y desviación típica."
      ]
    },
    {
      "cell_type": "code",
      "metadata": {
        "colab": {
          "base_uri": "https://localhost:8080/"
        },
        "id": "7_UXeDSWkOTY",
        "outputId": "130c0580-88d3-4722-ee01-add900048044"
      },
      "source": [
        "# definimos las listas a usar\n",
        "l1 = [1,2,3,4,5]\n",
        "l2 = [6,7,8,9,10]\n",
        "l3 = [11,12,13,14,15]\n",
        "\n",
        "# definimos las funciones que creara el diccionario\n",
        "#esta lista \n",
        "def var(lista):\n",
        "   v = []\n",
        "   for i in lista:\n",
        "     v.append(i**2)\n",
        "   return v \n",
        "  \n",
        "def dic(lista):\n",
        "  \n",
        "  # creamos un diccionario de la media, varianza y desviación\n",
        "  diccionario = {}\n",
        "\n",
        "  # obtenemos la media y la almacenamos en el diccionario\n",
        "  diccionario['Media'] = sum(lista) / len(lista)\n",
        "\n",
        "  # obtenemos la varianza y se almacena en el diccionario\n",
        "  diccionario['Varianza'] = (sum(var(lista)) / len(lista)) - diccionario['Media']**2\n",
        "\n",
        "  # obtenemos la desviación y se almacena en el diccionario\n",
        "  diccionario['Desviacion tipica'] = diccionario['Varianza']**0.5\n",
        "  return diccionario\n",
        "\n",
        "# luego imprimimos el resultado de la lista escogida\n",
        "print(\"Los valores de la lista 1 son:\"+str(l1))\n",
        "print(\"Los valores de la lista 2 son:\"+str(l2))\n",
        "print(\"Los valores de la lista 3 son:\"+str(l3))\n",
        "num = int(input('¿El diccionario de que lista desea obtener? '))\n",
        "if num == 1:\n",
        "  print(\"El diccionario de la lista 1 es: \" + str(dic(l1)))\n",
        "else:\n",
        "  if num == 2:\n",
        "    print(\"El diccionario de la lista 2 es: \" + str(dic(l2)))\n",
        "  else:\n",
        "    if num == 3:\n",
        "      print(\"El diccionario de la lista 3 es: \" + str(dic(l3)))\n",
        "    else:\n",
        "      print(\"Favor de escoger una lista existente\")"
      ],
      "execution_count": 5,
      "outputs": [
        {
          "output_type": "stream",
          "text": [
            "Los valores de la lista 1 son:[1, 2, 3, 4, 5]\n",
            "Los valores de la lista 2 son:[6, 7, 8, 9, 10]\n",
            "Los valores de la lista 3 son:[11, 12, 13, 14, 15]\n",
            "¿El diccionario de que lista desea obtener? 2\n",
            "El diccionario de la lista 2 es: {'Media': 8.0, 'Varianza': 2.0, 'Desviacion tipica': 1.4142135623730951}\n"
          ],
          "name": "stdout"
        }
      ]
    }
  ]
}