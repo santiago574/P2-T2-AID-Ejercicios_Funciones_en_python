{
  "nbformat": 4,
  "nbformat_minor": 0,
  "metadata": {
    "colab": {
      "name": "8.ipynb",
      "provenance": [],
      "collapsed_sections": [],
      "authorship_tag": "ABX9TyNwEyRla81t8FULk9rMEF8S",
      "include_colab_link": true
    },
    "kernelspec": {
      "name": "python3",
      "display_name": "Python 3"
    },
    "language_info": {
      "name": "python"
    }
  },
  "cells": [
    {
      "cell_type": "markdown",
      "metadata": {
        "id": "view-in-github",
        "colab_type": "text"
      },
      "source": [
        "<a href=\"https://colab.research.google.com/github/santiago574/P2-T2-AID-Ejercicios_Funciones_en_python/blob/main/8.ipynb\" target=\"_parent\"><img src=\"https://colab.research.google.com/assets/colab-badge.svg\" alt=\"Open In Colab\"/></a>"
      ]
    },
    {
      "cell_type": "markdown",
      "metadata": {
        "id": "UNlxqJAv0ViN"
      },
      "source": [
        "# Ejercicio 8\n",
        "#### Escribir un programa que reciba una cadena de caracteres y devuelva un diccionario con cada palabra que contiene y su frecuencia. Escribir otra función que reciba el diccionario generado con la función anterior y devuelva una tupla con la palabra más repetida y su frecuencia."
      ]
    },
    {
      "cell_type": "code",
      "metadata": {
        "colab": {
          "base_uri": "https://localhost:8080/"
        },
        "id": "8BX3FU9z30cs",
        "outputId": "1231dba1-84b7-457d-d632-2d835682a67d"
      },
      "source": [
        "def dic(t):    \n",
        "    t = t.split()\n",
        "    p = {}\n",
        "    for i in t:\n",
        "        if i in p:\n",
        "            p[i] += 1\n",
        "        else:\n",
        "            p[i] = 1\n",
        "    return p\n",
        "\n",
        "def tup(p):\n",
        "    p1 = ''\n",
        "    f1 = 0\n",
        "    for v, f in p.items():\n",
        "        if f > f1:\n",
        "            p1 = v\n",
        "            f1 = f\n",
        "    return p1, f1\n",
        "\n",
        "text = 'hola tu el la hola tu el la yo yo tu hola el la hola yo yo tu el la hola yo yo'\n",
        "print(\"diccionario = \",dic(text))\n",
        "print(\"tupla = \",tup(dic(text)))"
      ],
      "execution_count": 24,
      "outputs": [
        {
          "output_type": "stream",
          "text": [
            "diccionario =  {'hola': 5, 'tu': 4, 'el': 4, 'la': 4, 'yo': 6}\n",
            "tupla =  ('yo', 6)\n"
          ],
          "name": "stdout"
        }
      ]
    }
  ]
}