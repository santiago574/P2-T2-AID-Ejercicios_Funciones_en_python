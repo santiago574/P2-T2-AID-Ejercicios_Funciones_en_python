{
  "nbformat": 4,
  "nbformat_minor": 0,
  "metadata": {
    "colab": {
      "name": "4.ipynb",
      "provenance": [],
      "collapsed_sections": [],
      "authorship_tag": "ABX9TyNgtluDySY7TOpY62RGBM1f",
      "include_colab_link": true
    },
    "kernelspec": {
      "name": "python3",
      "display_name": "Python 3"
    },
    "language_info": {
      "name": "python"
    }
  },
  "cells": [
    {
      "cell_type": "markdown",
      "metadata": {
        "id": "view-in-github",
        "colab_type": "text"
      },
      "source": [
        "<a href=\"https://colab.research.google.com/github/santiago574/P2-T2-AID-Ejercicios_Funciones_en_python/blob/main/4.ipynb\" target=\"_parent\"><img src=\"https://colab.research.google.com/assets/colab-badge.svg\" alt=\"Open In Colab\"/></a>"
      ]
    },
    {
      "cell_type": "markdown",
      "metadata": {
        "id": "pVN1CTxxhNC-"
      },
      "source": [
        "#Ejercicio 4\n",
        "#### Escribir una función que reciba una muestra de números en una lista y devuelva otra lista con sus cuadrados."
      ]
    },
    {
      "cell_type": "code",
      "metadata": {
        "colab": {
          "base_uri": "https://localhost:8080/"
        },
        "id": "2LLPr3ZNhJR5",
        "outputId": "c9ad37d0-0885-4b42-9bd0-c8b6741cf974"
      },
      "source": [
        "\n",
        "# primero definimos las listas a usar\n",
        "l1 = [1,2,3,4,5]\n",
        "l2 = [6,7,8,9,10]\n",
        "l3 = [11,12,13,14,15]\n",
        "\n",
        "# luego definimos la función que sacara los cuadrados de la lista\n",
        "def elv(list):\n",
        "  # lista vacia que almacenara los datos elevados al acaudrado\n",
        "  nlist = []\n",
        "  # luego utilizamos un ciclo FOR para elevara al cuadrado cada elemento de las lista \n",
        "  # i es nuestro contador\n",
        "  for i in list:\n",
        "      nlist.append(i**2)\n",
        "  return nlist\n",
        "\n",
        "# luego imprimimos el resultado de la lista escogida\n",
        "print(\"Los valores de la lista 1 son:\"+str(l1))\n",
        "print(\"Los valores de la lista 2 son:\"+str(l2))\n",
        "print(\"Los valores de la lista 3 son:\"+str(l3))\n",
        "num = int(input('¿De que lista desea sacar la media? '))\n",
        "if num == 1:\n",
        "  print(\"La media de la lista 1 es: \" + str(elv(l1)))\n",
        "else:\n",
        "  if num == 2:\n",
        "    print(\"La media de la lista 2 es: \" + str(elv(l2)))\n",
        "  else:\n",
        "    if num == 3:\n",
        "      print(\"La media de la lista 3 es: \" + str(elv(l3)))\n",
        "    else:\n",
        "      print(\"Favor de escoger una lista existente\")"
      ],
      "execution_count": 8,
      "outputs": [
        {
          "output_type": "stream",
          "text": [
            "Los valores de la lista 1 son:[1, 2, 3, 4, 5]\n",
            "Los valores de la lista 2 son:[6, 7, 8, 9, 10]\n",
            "Los valores de la lista 3 son:[11, 12, 13, 14, 15]\n",
            "¿De que lista desea sacar la media? 3\n",
            "La media de la lista 3 es: [121, 144, 169, 196, 225]\n"
          ],
          "name": "stdout"
        }
      ]
    }
  ]
}