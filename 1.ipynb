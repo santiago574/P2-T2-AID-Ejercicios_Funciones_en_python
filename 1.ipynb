{
  "nbformat": 4,
  "nbformat_minor": 0,
  "metadata": {
    "colab": {
      "name": "1.ipynb",
      "provenance": [],
      "collapsed_sections": [],
      "authorship_tag": "ABX9TyNn0sS7nsg3+16XJTrNviZw",
      "include_colab_link": true
    },
    "kernelspec": {
      "name": "python3",
      "display_name": "Python 3"
    },
    "language_info": {
      "name": "python"
    }
  },
  "cells": [
    {
      "cell_type": "markdown",
      "metadata": {
        "id": "view-in-github",
        "colab_type": "text"
      },
      "source": [
        "<a href=\"https://colab.research.google.com/github/santiago574/P2-T2-AID-Ejercicios_Funciones_en_python/blob/main/1.ipynb\" target=\"_parent\"><img src=\"https://colab.research.google.com/assets/colab-badge.svg\" alt=\"Open In Colab\"/></a>"
      ]
    },
    {
      "cell_type": "markdown",
      "metadata": {
        "id": "8DAIlHQLNY3X"
      },
      "source": [
        "# Ejercicio 1\n",
        "\n",
        "##### Escribir una función que calcule el total de una factura tras aplicarle el IVA. La función debe recibir la cantidad sin IVA y el porcentaje de IVA a aplicar, y devolver el total de la factura. Si se invoca la función sin pasarle el porcentaje de IVA, deberá aplicar un 21%. "
      ]
    },
    {
      "cell_type": "code",
      "metadata": {
        "colab": {
          "base_uri": "https://localhost:8080/"
        },
        "id": "p3C8LT68NTnY",
        "outputId": "46b19f2c-ebc0-49b7-b552-ba5a04582058"
      },
      "source": [
        "# primero definimos la funcion en la cual cans es igual a la cantidad sin iva\n",
        "# e iva es igual al IVA \n",
        "def fac(cans, iva = 21):\n",
        "    #Se realiza la operación\n",
        "    return cans + ((cans*iva)/100)\n",
        "    \n",
        "# Se imprime el resultado sin pasar el IVA\n",
        "print(\"La factura sin un IVA definido es: \" + str(fac(60000)))\n",
        "\n",
        "# Se imprime el resultado pasandole el IVA\n",
        "print(\"La factura con un IVA definido es: \" + str(fac(60000,30)))"
      ],
      "execution_count": 4,
      "outputs": [
        {
          "output_type": "stream",
          "text": [
            "La factura sin un IVA definido es: 72600.0\n",
            "La factura con un IVA definido es: 78000.0\n"
          ],
          "name": "stdout"
        }
      ]
    }
  ]
}