{
  "nbformat": 4,
  "nbformat_minor": 0,
  "metadata": {
    "colab": {
      "name": "1.ipynb",
      "provenance": [],
      "collapsed_sections": [],
      "authorship_tag": "ABX9TyNFlWyXeb5ZUzCI7TR1+EXS",
      "include_colab_link": true
    },
    "kernelspec": {
      "name": "python3",
      "display_name": "Python 3"
    },
    "language_info": {
      "name": "python"
    }
  },
  "cells": [
    {
      "cell_type": "markdown",
      "metadata": {
        "id": "view-in-github",
        "colab_type": "text"
      },
      "source": [
        "<a href=\"https://colab.research.google.com/github/santiago574/P2-T2-AID-Ejercicios_Funciones_en_python/blob/main/1.ipynb\" target=\"_parent\"><img src=\"https://colab.research.google.com/assets/colab-badge.svg\" alt=\"Open In Colab\"/></a>"
      ]
    },
    {
      "cell_type": "markdown",
      "metadata": {
        "id": "8DAIlHQLNY3X"
      },
      "source": [
        "# Ejercicio 1\n",
        "\n",
        "##### Escribir una función que calcule el total de una factura tras aplicarle el IVA. La función debe recibir la cantidad sin IVA y el porcentaje de IVA a aplicar, y devolver el total de la factura. Si se invoca la función sin pasarle el porcentaje de IVA, deberá aplicar un 21%. "
      ]
    },
    {
      "cell_type": "code",
      "metadata": {
        "colab": {
          "base_uri": "https://localhost:8080/"
        },
        "id": "p3C8LT68NTnY",
        "outputId": "e68e8ad6-a593-4de6-c1e2-32081851e400"
      },
      "source": [
        "# primero definimos la funcion en la cual cans es igual a la cantidad sin iva\n",
        "# e iva es igual al IVA a incluir\n",
        "def fac(cans, iva = 21):\n",
        "    #luego se realiza la opreacion\n",
        "    return cans + ((cans*iva)/100)\n",
        "    \n",
        "# luego imprimimos la factura en caso de que no se haya pasado un iva\n",
        "print(\"La factura sin definir un IVA es = \" + str(fac(60000)))\n",
        "\n",
        "# luego imprimimos la factura en caso de que si se haya pasado un iva\n",
        "print(\"La factura una vez definido un IVA es = \" + str(fac(60000,30)))"
      ],
      "execution_count": 5,
      "outputs": [
        {
          "output_type": "stream",
          "text": [
            "La factura sin definir un IVA es = 72600.0\n",
            "La factura una vez definido un IVA es = 78000.0\n"
          ],
          "name": "stdout"
        }
      ]
    }
  ]
}