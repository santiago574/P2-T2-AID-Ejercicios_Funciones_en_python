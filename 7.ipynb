{
  "nbformat": 4,
  "nbformat_minor": 0,
  "metadata": {
    "colab": {
      "name": "7.ipynb",
      "provenance": [],
      "collapsed_sections": [],
      "authorship_tag": "ABX9TyMEqK0sYj+IcqUG1W9BLEmW",
      "include_colab_link": true
    },
    "kernelspec": {
      "name": "python3",
      "display_name": "Python 3"
    },
    "language_info": {
      "name": "python"
    }
  },
  "cells": [
    {
      "cell_type": "markdown",
      "metadata": {
        "id": "view-in-github",
        "colab_type": "text"
      },
      "source": [
        "<a href=\"https://colab.research.google.com/github/santiago574/P2-T2-AID-Ejercicios_Funciones_en_python/blob/main/7.ipynb\" target=\"_parent\"><img src=\"https://colab.research.google.com/assets/colab-badge.svg\" alt=\"Open In Colab\"/></a>"
      ]
    },
    {
      "cell_type": "markdown",
      "metadata": {
        "id": "6cry_dRluwDe"
      },
      "source": [
        "# Ejercicio 7\n",
        "#### Escribir una función que convierta un número decimal en binario y otra que convierta un número binario en decimal."
      ]
    },
    {
      "cell_type": "code",
      "metadata": {
        "colab": {
          "base_uri": "https://localhost:8080/"
        },
        "id": "PPIU94cpuvKc",
        "outputId": "39fade18-7d32-4365-d045-8fef704fcee4"
      },
      "source": [
        "def de_b(decimal): \n",
        "  v = []  \n",
        "  while decimal != 0:\n",
        "    v.append(str(decimal % 2))\n",
        "    decimal //= 2\n",
        "  v.reverse()\n",
        "  return ''.join(v)\n",
        "def bi_d(binario):\n",
        "  binario = list(binario)\n",
        "  binario.reverse()\n",
        "  d = 0\n",
        "  for i in range(len(binario)):\n",
        "    d += int(binario[i]) * 2 ** i\n",
        "  return d \n",
        "  \n",
        "print(\"El resultado de decimal a binario es: \", de_b(56))\n",
        "print(\"El resultado de binario a decimal es: \", bi_d('101111'))"
      ],
      "execution_count": 12,
      "outputs": [
        {
          "output_type": "stream",
          "text": [
            "El resultado de decimal a binario es:  111000\n",
            "El resultado de binario a decimal es:  47\n"
          ],
          "name": "stdout"
        }
      ]
    }
  ]
}