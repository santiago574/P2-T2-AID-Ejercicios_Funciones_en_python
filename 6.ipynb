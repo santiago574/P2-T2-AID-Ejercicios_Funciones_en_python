{
  "nbformat": 4,
  "nbformat_minor": 0,
  "metadata": {
    "colab": {
      "name": "6.ipynb",
      "provenance": [],
      "collapsed_sections": [],
      "authorship_tag": "ABX9TyOyd8oO4odz2flmS8eJEd0O",
      "include_colab_link": true
    },
    "kernelspec": {
      "name": "python3",
      "display_name": "Python 3"
    },
    "language_info": {
      "name": "python"
    }
  },
  "cells": [
    {
      "cell_type": "markdown",
      "metadata": {
        "id": "view-in-github",
        "colab_type": "text"
      },
      "source": [
        "<a href=\"https://colab.research.google.com/github/santiago574/P2-T2-AID-Ejercicios_Funciones_en_python/blob/main/6.ipynb\" target=\"_parent\"><img src=\"https://colab.research.google.com/assets/colab-badge.svg\" alt=\"Open In Colab\"/></a>"
      ]
    },
    {
      "cell_type": "markdown",
      "metadata": {
        "id": "fzWaUHcqpLT6"
      },
      "source": [
        "# Ejercicio 6\n",
        "#### Escribir una función que calcule el máximo común divisor de dos números y otra que calcule el mínimo común múltiplo."
      ]
    },
    {
      "cell_type": "code",
      "metadata": {
        "colab": {
          "base_uri": "https://localhost:8080/"
        },
        "id": "1obu2EyIpJT-",
        "outputId": "8920dcf1-35ff-4d11-8605-4eb0c1d00f61"
      },
      "source": [
        "\n",
        "# definimos las funciones que calculen el máximo común divisor y el minímo común multiplo\n",
        "def md(n1,n2):\n",
        "  while n2 != 0:\n",
        "      v = n2\n",
        "      n2 = n1 % n2\n",
        "      n1 = v      \n",
        "  return n1\n",
        "def mm(n1, n2):\n",
        "    return (n1 * n2) / md(n1, n2)\n",
        "     \n",
        "v1 = int(input('Escribe el primer número: '))\n",
        "v2 = int(input('Escribe el segundo número: '))\n",
        "# Se imprime el resultado de las operaciones\n",
        "print(\"El maximo comun divisor es: \"+ str(md(v1,v2)))\n",
        "print(\"El minimo comun multiplo es: \"+ str(mm(v1,v2)))"
      ],
      "execution_count": 16,
      "outputs": [
        {
          "output_type": "stream",
          "text": [
            "Escribe el primer número: 2\n",
            "Escribe el segundo número: 4\n",
            "El maximo comun divisor es: 2\n",
            "El minimo comun multiplo es: 4.0\n"
          ],
          "name": "stdout"
        }
      ]
    }
  ]
}