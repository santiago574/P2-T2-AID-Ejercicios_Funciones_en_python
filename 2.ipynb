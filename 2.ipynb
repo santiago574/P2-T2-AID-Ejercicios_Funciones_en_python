{
  "nbformat": 4,
  "nbformat_minor": 0,
  "metadata": {
    "colab": {
      "name": "2.ipynb",
      "provenance": [],
      "collapsed_sections": [],
      "authorship_tag": "ABX9TyPQQ0c1WVwOI2lKI+bqKmSk",
      "include_colab_link": true
    },
    "kernelspec": {
      "name": "python3",
      "display_name": "Python 3"
    },
    "language_info": {
      "name": "python"
    }
  },
  "cells": [
    {
      "cell_type": "markdown",
      "metadata": {
        "id": "view-in-github",
        "colab_type": "text"
      },
      "source": [
        "<a href=\"https://colab.research.google.com/github/santiago574/P2-T2-AID-Ejercicios_Funciones_en_python/blob/main/2.ipynb\" target=\"_parent\"><img src=\"https://colab.research.google.com/assets/colab-badge.svg\" alt=\"Open In Colab\"/></a>"
      ]
    },
    {
      "cell_type": "markdown",
      "metadata": {
        "id": "TQToCmUKXoPH"
      },
      "source": [
        "# Ejercicio 2\n",
        "#### Escribir una función que calcule el área de un círculo y otra que calcule el volumen de un cilindro usando la primera función."
      ]
    },
    {
      "cell_type": "code",
      "metadata": {
        "colab": {
          "base_uri": "https://localhost:8080/"
        },
        "id": "GqAYVoIDUkuR",
        "outputId": "7fe93957-db63-4aab-e0fd-eb28e9ccebc6"
      },
      "source": [
        "# primero se definen las dos funciones la del circulo y del cilindro donde r representa el radio y h la altura\n",
        "def circulo(r):\n",
        "  return  3.1416 * (r**2)\n",
        "  \n",
        "def cilindro(r,h):\n",
        "    return circulo(r) * h\n",
        "  \n",
        "# imprimir los resutados le area del circulo y del cilindro\n",
        "print(\"El volumen del cilindro es igual a: \" + str(cilindro(6,9)))\n",
        "print(\"El área de un círculo es igual a: \" + str(circulo(6)))"
      ],
      "execution_count": 6,
      "outputs": [
        {
          "output_type": "stream",
          "text": [
            "El volumen del cilindro es igual a: 1017.8784\n",
            "El área de un círculo es igual a: 113.0976\n"
          ],
          "name": "stdout"
        }
      ]
    }
  ]
}