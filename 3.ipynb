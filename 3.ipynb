{
  "nbformat": 4,
  "nbformat_minor": 0,
  "metadata": {
    "colab": {
      "name": "3.ipynb",
      "provenance": [],
      "collapsed_sections": [],
      "authorship_tag": "ABX9TyOdWe51czsKPmYstgYTyZiL",
      "include_colab_link": true
    },
    "kernelspec": {
      "name": "python3",
      "display_name": "Python 3"
    },
    "language_info": {
      "name": "python"
    }
  },
  "cells": [
    {
      "cell_type": "markdown",
      "metadata": {
        "id": "view-in-github",
        "colab_type": "text"
      },
      "source": [
        "<a href=\"https://colab.research.google.com/github/santiago574/P2-T2-AID-Ejercicios_Funciones_en_python/blob/main/3.ipynb\" target=\"_parent\"><img src=\"https://colab.research.google.com/assets/colab-badge.svg\" alt=\"Open In Colab\"/></a>"
      ]
    },
    {
      "cell_type": "markdown",
      "metadata": {
        "id": "hnFyofOxbUBN"
      },
      "source": [
        "# Ejercicio 3\n",
        "#### Escribir una función que reciba una muestra de números en una lista y devuelva su media."
      ]
    },
    {
      "cell_type": "code",
      "metadata": {
        "colab": {
          "base_uri": "https://localhost:8080/"
        },
        "id": "uQEysWcCbRCf",
        "outputId": "3202a3ad-5385-40bf-87b3-3201535e4077"
      },
      "source": [
        "# primero definimos las listas a usar\n",
        "l1 = [1,2,3,4,5]\n",
        "l2 = [6,7,8,9,10]\n",
        "l3 = [11,12,13,14,15]\n",
        "# luego definimos la funcion que sacara la media\n",
        "def media(list):\n",
        "    # Len() obtiene la cantidad de elementos de la lista\n",
        "    # Sum() suma todos los elementos\n",
        "  return sum(list) / len(list)\n",
        "  \n",
        "# luego imprimimos el resultado de la lista escogida\n",
        "print(\"Los valores de la lista 1 son:\"+str(l1))\n",
        "print(\"Los valores de la lista 2 son:\"+str(l2))\n",
        "print(\"Los valores de la lista 3 son:\"+str(l3))\n",
        "num = int(input('¿De que lista desea sacar la media? '))\n",
        "if num == 1:\n",
        "  print(\"La media de la lista 1 es: \" + str(media(l1)))\n",
        "else:\n",
        "  if num == 2:\n",
        "    print(\"La media de la lista 2 es: \" + str(media(l2)))\n",
        "  else:\n",
        "    if num == 3:\n",
        "      print(\"La media de la lista 3 es: \" + str(media(l3)))\n",
        "    else:\n",
        "      print(\"Favor de escoger una lista existente\")\n"
      ],
      "execution_count": 11,
      "outputs": [
        {
          "output_type": "stream",
          "text": [
            "Los valores de la lista 1 son:[1, 2, 3, 4, 5]\n",
            "Los valores de la lista 2 son:[6, 7, 8, 9, 10]\n",
            "Los valores de la lista 3 son:[11, 12, 13, 14, 15]\n",
            "¿De que lista desea sacar la media? 2\n",
            "La media de la lista 2 es: 8.0\n"
          ],
          "name": "stdout"
        }
      ]
    }
  ]
}